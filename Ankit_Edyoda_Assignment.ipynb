{
  "nbformat": 4,
  "nbformat_minor": 0,
  "metadata": {
    "colab": {
      "provenance": [],
      "authorship_tag": "ABX9TyMrAh6shofh3vowSGnYIbYs",
      "include_colab_link": true
    },
    "kernelspec": {
      "name": "python3",
      "display_name": "Python 3"
    },
    "language_info": {
      "name": "python"
    }
  },
  "cells": [
    {
      "cell_type": "markdown",
      "metadata": {
        "id": "view-in-github",
        "colab_type": "text"
      },
      "source": [
        "<a href=\"https://colab.research.google.com/github/AnkitPal09/Ankit_Edyoda/blob/main/Ankit_Edyoda_Assignment.ipynb\" target=\"_parent\"><img src=\"https://colab.research.google.com/assets/colab-badge.svg\" alt=\"Open In Colab\"/></a>"
      ]
    },
    {
      "cell_type": "markdown",
      "source": [
        "#1"
      ],
      "metadata": {
        "id": "ZUdjpARWBfMT"
      }
    },
    {
      "cell_type": "code",
      "execution_count": 16,
      "metadata": {
        "colab": {
          "base_uri": "https://localhost:8080/"
        },
        "id": "-0-K29x1_ybN",
        "outputId": "679467ca-87f6-464e-f5df-272eb3e986f2"
      },
      "outputs": [
        {
          "output_type": "stream",
          "name": "stdout",
          "text": [
            "D:100 W:10\n",
            "\n",
            "90\n"
          ]
        }
      ],
      "source": [
        "net_amt= 0\n",
        "while 1:\n",
        "    log_msg= input()\n",
        "    if log_msg==\"\":\n",
        "        break\n",
        "    else:\n",
        "        transactions= log_msg.split(\" \")\n",
        "        for i in transactions:\n",
        "            t= i.split(\":\")\n",
        "            type= t[0]\n",
        "            amt= int(t[1])\n",
        "            if type== \"D\" :\n",
        "                net_amt+= amt\n",
        "            elif type==\"W\":\n",
        "                net_amt-= amt\n",
        "            else:\n",
        "                pass\n",
        "print(net_amt)"
      ]
    },
    {
      "cell_type": "markdown",
      "source": [
        "#2"
      ],
      "metadata": {
        "id": "obP2kGJ6Bquw"
      }
    },
    {
      "cell_type": "code",
      "source": [
        "def monthly_bill():\n",
        "    num= int(input(\"Enter the number of calls\"))\n",
        "\n",
        "    bill= 200\n",
        "    if (num>100 and num<=150):\n",
        "        bill= 200+((num-100)*0.60)\n",
        "    elif (num>150 and num<=200):\n",
        "        bill= 200 + 0.6*50 + ((num-150)*0.5)\n",
        "    else:\n",
        "        bill=200 + 0.6*50 + 0.5*50 + ((num-200)*0.4)\n",
        "    print(bill)\n",
        "monthly_bill()"
      ],
      "metadata": {
        "colab": {
          "base_uri": "https://localhost:8080/"
        },
        "id": "7IsJNnrMBrLx",
        "outputId": "a520fe88-b8d2-4284-988c-4bad74ae596f"
      },
      "execution_count": 2,
      "outputs": [
        {
          "output_type": "stream",
          "name": "stdout",
          "text": [
            "Enter the number of calls500\n",
            "375.0\n"
          ]
        }
      ]
    },
    {
      "cell_type": "markdown",
      "source": [
        "#3"
      ],
      "metadata": {
        "id": "gJb3Q0eQCFRu"
      }
    },
    {
      "cell_type": "code",
      "source": [
        "from functools import reduce"
      ],
      "metadata": {
        "id": "qssu1slQCgwj"
      },
      "execution_count": 5,
      "outputs": []
    },
    {
      "cell_type": "code",
      "source": [
        "my_list = [4,6,7,8]\n",
        "sum_result = reduce(lambda x, y: x + y, my_list)\n",
        "\n",
        "print(\"Sum of the items in the list:\", sum_result)"
      ],
      "metadata": {
        "colab": {
          "base_uri": "https://localhost:8080/"
        },
        "id": "yp715IHFB_kf",
        "outputId": "f7481e03-ba80-4521-ab90-ff5316c7311e"
      },
      "execution_count": 6,
      "outputs": [
        {
          "output_type": "stream",
          "name": "stdout",
          "text": [
            "Sum of the items in the list: 25\n"
          ]
        }
      ]
    },
    {
      "cell_type": "markdown",
      "source": [
        "#4"
      ],
      "metadata": {
        "id": "0coJseg9CoRX"
      }
    },
    {
      "cell_type": "code",
      "source": [
        "def reverse_string(str):\n",
        "    return ''.join(reversed(str))\n",
        "\n",
        "str = input(\"Enter the string\")\n",
        "rev_str = reverse_string(str)\n",
        "\n",
        "print(\"Original String:\", str)\n",
        "print(\"Reversed String:\", rev_str)"
      ],
      "metadata": {
        "colab": {
          "base_uri": "https://localhost:8080/"
        },
        "id": "RUO2xDYPCGBR",
        "outputId": "406c9bf8-bfd7-4c6c-8d97-5ff2dab6b72c"
      },
      "execution_count": 7,
      "outputs": [
        {
          "output_type": "stream",
          "name": "stdout",
          "text": [
            "Enter the stringHello World\n",
            "Original String: Hello World\n",
            "Reversed String: dlroW olleH\n"
          ]
        }
      ]
    },
    {
      "cell_type": "code",
      "source": [
        "str= input(\"Enter the string\")\n",
        "rev_str= ''.join(reversed(str))\n",
        "print(\"Original String:\", str)\n",
        "print(\"Reversed String:\", rev_str)"
      ],
      "metadata": {
        "colab": {
          "base_uri": "https://localhost:8080/"
        },
        "id": "XLp0JJngCpFH",
        "outputId": "89f0c9e6-e0a6-474d-9b0b-5cb95d86dcc7"
      },
      "execution_count": 8,
      "outputs": [
        {
          "output_type": "stream",
          "name": "stdout",
          "text": [
            "Enter the stringHow are you?\n",
            "Original String: How are you?\n",
            "Reversed String: ?uoy era woH\n"
          ]
        }
      ]
    },
    {
      "cell_type": "markdown",
      "source": [
        "#5"
      ],
      "metadata": {
        "id": "5qbo6D9HCzP4"
      }
    },
    {
      "cell_type": "code",
      "source": [
        "def count_upper_lower():\n",
        "    input_text= input(\"Enter the text\")\n",
        "    upper_count = 0\n",
        "    lower_count = 0\n",
        "\n",
        "    for char in input_text:\n",
        "        if char.isupper():\n",
        "            upper_count += 1\n",
        "        elif char.islower():\n",
        "            lower_count += 1\n",
        "\n",
        "    return upper_count, lower_count\n",
        "count_upper_lower()"
      ],
      "metadata": {
        "colab": {
          "base_uri": "https://localhost:8080/"
        },
        "id": "llRaFWNzC0To",
        "outputId": "8985e108-da20-4965-ca2f-448a4108314b"
      },
      "execution_count": 9,
      "outputs": [
        {
          "name": "stdout",
          "output_type": "stream",
          "text": [
            "Enter the textAbcdEFghi\n"
          ]
        },
        {
          "output_type": "execute_result",
          "data": {
            "text/plain": [
              "(3, 6)"
            ]
          },
          "metadata": {},
          "execution_count": 9
        }
      ]
    },
    {
      "cell_type": "markdown",
      "source": [
        "#Challenge 1"
      ],
      "metadata": {
        "id": "YgG98KAyDW23"
      }
    },
    {
      "cell_type": "code",
      "source": [
        "class Point:\n",
        "    def __init__(self, x, y, z):\n",
        "        self.x = x\n",
        "        self.y = y\n",
        "        self.z = z\n",
        "\n",
        "    def sqsum(self):\n",
        "        return(pow(self.x,2)+pow(self.y,2)+pow(self.z,2))\n",
        "\n",
        "a1= Point(1,3,5)\n",
        "print(a1.sqsum())"
      ],
      "metadata": {
        "colab": {
          "base_uri": "https://localhost:8080/"
        },
        "id": "Blv8M2YVDPMW",
        "outputId": "996af10c-cece-4a73-d6cd-68e0dbe2bb78"
      },
      "execution_count": 10,
      "outputs": [
        {
          "output_type": "stream",
          "name": "stdout",
          "text": [
            "35\n"
          ]
        }
      ]
    },
    {
      "cell_type": "markdown",
      "source": [
        "#Challenge 2"
      ],
      "metadata": {
        "id": "EFd-tbTUDmJw"
      }
    },
    {
      "cell_type": "code",
      "source": [
        "class Calculator:\n",
        "\n",
        "    def __init__(self,num1, num2):\n",
        "        self.num1= num1\n",
        "        self.num2= num2\n",
        "\n",
        "    def add(self):\n",
        "        return(self.num1+self.num2)\n",
        "\n",
        "    def subtract(self):\n",
        "        return(self.num1-self.num2)\n",
        "\n",
        "    def multiply(self):\n",
        "        return(self.num1*self.num2)\n",
        "\n",
        "    def divide(self):\n",
        "        return(self.num1/self.num2)\n",
        "\n",
        "a1= Calculator(7,5)\n",
        "print(a1.add())\n",
        "print(a1.subtract())\n",
        "print(a1.multiply())\n",
        "print(a1.divide())\n",
        ""
      ],
      "metadata": {
        "colab": {
          "base_uri": "https://localhost:8080/"
        },
        "id": "UER1pY5dDX0f",
        "outputId": "712a684d-acfe-4481-ac32-476785179865"
      },
      "execution_count": 11,
      "outputs": [
        {
          "output_type": "stream",
          "name": "stdout",
          "text": [
            "12\n",
            "2\n",
            "35\n",
            "1.4\n"
          ]
        }
      ]
    },
    {
      "cell_type": "markdown",
      "source": [
        "#Challenge 3"
      ],
      "metadata": {
        "id": "aHVoTPwLDwvZ"
      }
    },
    {
      "cell_type": "code",
      "source": [
        "class Student:\n",
        "\n",
        "    def __init__(self,name, rollNumber):\n",
        "        self.name= name\n",
        "        self.rn= rollNumber\n",
        "\n",
        "    def get_name(self):\n",
        "        return self.name\n",
        "\n",
        "    def set_name(self,val):\n",
        "        self.name= val\n",
        "\n",
        "    def get_rn(self):\n",
        "        return self.rn\n",
        "\n",
        "    def set_rn(self,val):\n",
        "        self.rn= val\n",
        "\n",
        "a1 = Student('Ram', 25)\n",
        "\n",
        "\n",
        "print(a1.get_name())\n",
        "print(a1.get_rn())\n",
        "\n",
        "a1.set_name('Laxman')\n",
        "a1.set_rn(18)\n",
        "\n",
        "print(a1.get_name())\n",
        "print(a1.get_rn())\n"
      ],
      "metadata": {
        "colab": {
          "base_uri": "https://localhost:8080/"
        },
        "id": "7XWuDi3kDneh",
        "outputId": "173ca0e4-a254-4ce0-e70b-04f245c880f4"
      },
      "execution_count": 12,
      "outputs": [
        {
          "output_type": "stream",
          "name": "stdout",
          "text": [
            "Ram\n",
            "25\n",
            "Laxman\n",
            "18\n"
          ]
        }
      ]
    },
    {
      "cell_type": "markdown",
      "source": [
        "#Challenge 4"
      ],
      "metadata": {
        "id": "F7Nm8wcPD6ZR"
      }
    },
    {
      "cell_type": "code",
      "source": [
        "class Account:\n",
        "    def __init__(self, title=None, balance=0):\n",
        "        self.title = title\n",
        "        self.Balance = balance\n",
        "\n",
        "\n",
        "\n",
        "class SavingsAccount(Account):\n",
        "    def __init__(self, title, balance, interestRate=0):\n",
        "        super().__init__(title, balance)\n",
        "        self.interestRate = interestRate\n",
        "\n",
        "account= Account(\"Ashish\", 5000)\n",
        "print(\"Title:\", account.title)\n",
        "print(\"Balance:\",account.Balance)\n",
        "\n",
        "savings_account = SavingsAccount(\"Ashish\", 5000, 5)\n",
        "print(\"Title:\", savings_account.title)\n",
        "print(\"Balance:\", savings_account.Balance)\n",
        "print(\"Interest Rate:\", savings_account.interestRate)\n",
        "\n",
        "\n"
      ],
      "metadata": {
        "colab": {
          "base_uri": "https://localhost:8080/"
        },
        "id": "RuoNSoaHDx07",
        "outputId": "588ec616-418c-4841-92b2-c904f20bd503"
      },
      "execution_count": 14,
      "outputs": [
        {
          "output_type": "stream",
          "name": "stdout",
          "text": [
            "Title: Ashish\n",
            "Balance: 5000\n",
            "Title: Ashish\n",
            "Balance: 5000\n",
            "Interest Rate: 5\n"
          ]
        }
      ]
    },
    {
      "cell_type": "markdown",
      "source": [
        "#Challenge 5"
      ],
      "metadata": {
        "id": "hUs-h3ruEfJ3"
      }
    },
    {
      "cell_type": "code",
      "source": [
        "class Account:\n",
        "    def __init__(self, title=None, balance=0):\n",
        "        self.title = title\n",
        "        self.balance = balance\n",
        "\n",
        "    def withdrawal(self, amount):\n",
        "        self.balance-= amount\n",
        "        pass\n",
        "\n",
        "    def deposit(self, amount):\n",
        "        self.balance+= amount\n",
        "        pass\n",
        "    def getBalance(self):\n",
        "        return self.balance\n",
        "        pass\n",
        "\n",
        "class SavingsAccount(Account):\n",
        "    def __init__(self, title=None, balance=0, interestRate=0):\n",
        "            super().__init__(title, balance)\n",
        "            self.interestRate = interestRate\n",
        "\n",
        "    def interestAmount(self):\n",
        "        interest_amount = self.balance * (self.interest_rate / 100)\n",
        "        pass\n",
        "\n",
        "#code to test - do not edit this\n",
        "\n",
        "demo1 = SavingsAccount(\"Ashish\", 2000, 5)   # initializing a SavingsAccount object"
      ],
      "metadata": {
        "id": "yZ0BxJsXD7SX"
      },
      "execution_count": 15,
      "outputs": []
    },
    {
      "cell_type": "code",
      "source": [],
      "metadata": {
        "id": "57Uxg9mLEdcJ"
      },
      "execution_count": null,
      "outputs": []
    }
  ]
}